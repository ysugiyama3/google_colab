{
  "nbformat": 4,
  "nbformat_minor": 0,
  "metadata": {
    "colab": {
      "provenance": [],
      "authorship_tag": "ABX9TyPdgIqUTeJasSlq57VYLJ95",
      "include_colab_link": true
    },
    "kernelspec": {
      "name": "python3",
      "display_name": "Python 3"
    },
    "language_info": {
      "name": "python"
    }
  },
  "cells": [
    {
      "cell_type": "markdown",
      "metadata": {
        "id": "view-in-github",
        "colab_type": "text"
      },
      "source": [
        "<a href=\"https://colab.research.google.com/github/ysugiyama3/google_colab/blob/master/microfilm_boundwiths_cleanup.ipynb\" target=\"_parent\"><img src=\"https://colab.research.google.com/assets/colab-badge.svg\" alt=\"Open In Colab\"/></a>"
      ]
    },
    {
      "cell_type": "markdown",
      "source": [
        "## **Duplicate Barcode Cleanup for Microfilm Boundwiths**\n",
        "\n",
        "\n",
        "In Alma, if the barcode exists but is not unique, the barcode will be migrated but disambiguated by putting the internal item_id after the barcode: [item_barcode]-[item_id]. For more information, go to [this page](https://knowledge.exlibrisgroup.com/Alma/Implementation_and_Migration/Migration_Guides_and_Tutorials/Voyager_to_Alma_Migration_Guide#Item_Barcodes).\n",
        "We have about 18,900 items with duplicate barcode. Microfilms account for 80%, some of which can be cleaned up in this program following [the Bound-With procedures for serials and multiparts](https://web.library.yale.edu/cataloging/bound-procedures-serials-multiparts). \n",
        "\n",
        "By yukari.sugiyama@yale.edu\n",
        "\n",
        "---\n",
        "\n",
        "\n",
        "What you need:\n",
        "* A base Excel spreadsheet for duplicate item records that can be batch \n",
        "processed. Please make sure to exclude item records that were processed manually. Column O (Method) = 'Batch'\n",
        "* MarcExtract (\\TS_Local\\MarcExtract)\n",
        "* [RecordReloader](https://files.library.northwestern.edu/public/RecordReloader/)\n",
        "* Pick and Scan (Voyager Cataloging module)\n",
        "\n",
        "\n",
        "The program generates the following outputs:\n",
        "* **item_to_delete.txt** that is used for item record deletion in Voyager's Pick and Scan tool\n",
        "* **mfhdid_list.txt** that is used in the MarcExtract toold to extract specific MFHD MARC records\n",
        "* **mfhd_output.mrc** that is used to update MFHD records in Gary Strawn's RecordReloader tool\n",
        "\n",
        "\n",
        "---\n"
      ],
      "metadata": {
        "id": "h3jjU0ICiBi4"
      }
    },
    {
      "cell_type": "code",
      "execution_count": null,
      "metadata": {
        "cellView": "form",
        "id": "3aYjXld8SmOh"
      },
      "outputs": [],
      "source": [
        "#@title 1. Upload an input Excel file\n",
        "!pip install pymarc &> /dev/null\n",
        "\n",
        "from google.colab import files\n",
        "import pandas as pd\n",
        "from pymarc import *\n",
        "from IPython.display import HTML, display\n",
        "import time\n",
        "from datetime import date\n",
        "\n",
        "# Upload an input Excel file\n",
        "uploaded = files.upload()\n",
        "input_name = str(list(uploaded.keys())[0])\n",
        "\n",
        "# Read an input Excel file into a pandas DataFrame\n",
        "input_df = pd.read_excel(input_name)\n",
        "\n",
        "# Create dictionaries and lists\n",
        "barcode_bib_dict = dict()\n",
        "item_to_delete_list = list()\n",
        "mfhdid_list = list()\n",
        "mfhd_bib_dict = dict()\n",
        "\n",
        "for index, row in input_df.iterrows():\n",
        "    itemid = str(row[0])\n",
        "    barcode = str(row[3])\n",
        "    mfhdid = str(row[5])\n",
        "    bibid = str(row[9])\n",
        "    comment = row[16]\n",
        "    if comment == 'Keep' and barcode not in barcode_bib_dict:\n",
        "        barcode_bib_dict.update({barcode : bibid})\n",
        "    else:\n",
        "        if mfhdid not in mfhdid_list:\n",
        "            mfhdid_list.append(mfhdid)\n",
        "        if itemid not in item_to_delete_list:\n",
        "            item_to_delete_list.append(itemid)\n",
        "\n",
        "for index, row in input_df.iterrows():\n",
        "    barcode = str(row[3])\n",
        "    mfhdid = str(row[5])\n",
        "    host_bibid = barcode_bib_dict.get(barcode)\n",
        "    if mfhdid in mfhdid_list and mfhdid not in mfhd_bib_dict:\n",
        "        mfhd_bib_dict.update({mfhdid : host_bibid})\n",
        "\n",
        "# Create and write mfhdid_list.txt\n",
        "mfhdid_list_output = 'mfhdid_list.txt'\n",
        "\n",
        "with open(mfhdid_list_output, 'w') as m:\n",
        "    m.writelines('\\n'.join(mfhdid_list))\n",
        "    m.write('\\n')\n",
        "\n",
        "# Create and write item_to_delete.txt\n",
        "item_to_delete_output = 'item_to_delete.txt'\n",
        "\n",
        "with open(item_to_delete_output, 'w') as i: # Make sure each line ends with CRLF\n",
        "    i.writelines('\\r\\n'.join(item_to_delete_list))\n",
        "    i.write('\\r\\n')\n",
        "\n",
        "# Total number of holdings records to edit\n",
        "mfhd_total = len(mfhdid_list)\n",
        "\n",
        "# Total number of item records to delete\n",
        "item_total = len(item_to_delete_list)\n",
        "\n",
        "# Done. Print results\n",
        "print('\\n\\nNumber of MFHD records to edit: ', mfhd_total)\n",
        "print('Number of ITEM records to delete: ', item_total)\n",
        "print('Download mfhdid_list.txt to obtain a MFHD MARC file using MarcExtract and then move on to the 2nd step')\n"
      ]
    },
    {
      "cell_type": "code",
      "source": [
        "#@title 2. Upload an input MFHD MARC file\n",
        "uploaded_mrc = files.upload()\n",
        "in_mrc_name = str(list(uploaded_mrc.keys())[0])\n",
        "out_mrc_name = in_mrc_name[:-4] + \"_output.mrc\"\n",
        "writer = MARCWriter(open(out_mrc_name, mode=\"wb\"))\n",
        "\n",
        "def add_field_856():\n",
        "    bib = mfhd_bib_dict[mfhd]\n",
        "    url = 'http://hdl.handle.net/10079/bibid/' + bib\n",
        "    field_856 = pymarc.Field(\n",
        "      tag='856', \n",
        "      indicators = ['4','2'],\n",
        "      subfields = ['u', url,'z', 'Click here to request']\n",
        "      ,)\n",
        "    record.add_ordered_field(field_856) \n",
        "\n",
        "def progress(value, max=50000):\n",
        "    return HTML(\"\"\"\n",
        "        <progress\n",
        "            value='{value}'\n",
        "            max='{max}',\n",
        "            style='width: 40%'\n",
        "        >\n",
        "            {value}\n",
        "        </progress>\n",
        "        <br>{value}/{max}</br>\n",
        "    \"\"\".format(value=value, max=max))\n",
        "\n",
        "count = 0\n",
        "out = display(progress(0, mfhd_total), display_id=True)\n",
        "\n",
        "with open(in_mrc_name, mode=\"rb\") as fh:\n",
        "    reader = MARCReader(fh) \n",
        "    # read each record\n",
        "    for record in reader:\n",
        "        count += 1\n",
        "        out.update(progress(count, mfhd_total))\n",
        "        mfhd = record['001'].value()\n",
        "        if mfhd in mfhdid_list:\n",
        "            add_field_856()\n",
        "            writer.write(record)\n",
        "            time.sleep(2)\n",
        "\n",
        "writer.close()\n",
        "print('\\n\\nDone! \\U0001f44D \\nPlease load mfhd_output.mrc using RecordReloader')"
      ],
      "metadata": {
        "cellView": "form",
        "id": "O7yjkxqtdhaf"
      },
      "execution_count": null,
      "outputs": []
    },
    {
      "cell_type": "code",
      "source": [
        "#@title 3. Refresh program (optional)\n",
        "from IPython.display import clear_output\n",
        "from google.colab import runtime\n",
        "clear_output()\n",
        "runtime.unassign()\n"
      ],
      "metadata": {
        "cellView": "form",
        "id": "1EEEMtaQ2UvD"
      },
      "execution_count": null,
      "outputs": []
    }
  ]
}