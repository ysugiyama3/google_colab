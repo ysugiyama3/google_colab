{
  "nbformat": 4,
  "nbformat_minor": 0,
  "metadata": {
    "colab": {
      "name": "link_checker.ipynb",
      "provenance": [],
      "collapsed_sections": [],
      "toc_visible": true,
      "authorship_tag": "ABX9TyOXaPIK4d7JCtA+stysG+5C",
      "include_colab_link": true
    },
    "kernelspec": {
      "name": "python3",
      "display_name": "Python 3"
    }
  },
  "cells": [
    {
      "cell_type": "markdown",
      "metadata": {
        "id": "view-in-github",
        "colab_type": "text"
      },
      "source": [
        "<a href=\"https://colab.research.google.com/github/ysugiyama3/google_colab/blob/master/link_checker.ipynb\" target=\"_parent\"><img src=\"https://colab.research.google.com/assets/colab-badge.svg\" alt=\"Open In Colab\"/></a>"
      ]
    },
    {
      "cell_type": "markdown",
      "metadata": {
        "id": "xDgWShynZZY_"
      },
      "source": [
        "## **Link checker**\n",
        "\n",
        "by Yukari Sugiyama  (View source code on <a href='https://github.com/ysugiyama3/google_colab'>Github</a>)\n",
        "\n",
        "- The program checks for broken links using HTTP status codes\n",
        "- You need an Excel spreadsheet in which the 1st column must be assigned for URL. The spreadsheet can have as many columns as necesary and must have column headers.\n",
        "---\n"
      ]
    },
    {
      "cell_type": "code",
      "metadata": {
        "id": "AbmIvN4dcsh2",
        "cellView": "form"
      },
      "source": [
        "#@title 1. Upload an input Excel file (.xls, .xlsx, .xlsm, .xlsb, .odf)\n",
        "\n",
        "from google.colab import files\n",
        "import pandas as pd\n",
        "import requests\n",
        "import xml.etree.ElementTree as ET\n",
        "from IPython.display import HTML, display\n",
        "import time\n",
        "import re\n",
        "\n",
        "def progress(value, max=50000):\n",
        "    return HTML(\"\"\"\n",
        "        <progress\n",
        "            value='{value}'\n",
        "            max='{max}',\n",
        "            style='width: 40%'\n",
        "        >\n",
        "            {value}\n",
        "        </progress>\n",
        "        <br>{value}/{max}</br>\n",
        "    \"\"\".format(value=value, max=max))\n",
        "\n",
        "def check_url(url):\n",
        "    headers = {\n",
        "    'User-Agent': 'Mozilla/5.0 (Windows NT 10.0; Win64; x64) AppleWebKit/537.36 (KHTML, like Gecko) Chrome/76.0.3809.132 Safari/537.36'}     \n",
        "   \n",
        "    try:\n",
        "        r = requests.head(url, allow_redirects=True, headers=headers, timeout=(15, 15))\n",
        "        code = r.status_code\n",
        "    except (requests.ConnectTimeout, requests.ReadTimeout, requests.exceptions.Timeout):\n",
        "        code = 'Timeout Error'              \n",
        "    except (requests.TooManyRedirects, requests.ConnectionError):\n",
        "        code = 'Connection Error' \n",
        "    except (requests.HTTPError, requests.URLRequired, requests.exceptions.RequestException):\n",
        "        code = 'Other Error'  \n",
        "    except (requests.HTTPError, requests.URLRequired, requests.exceptions.RequestException, requests.TooManyRedirects, requests.ConnectionError, requests.ConnectTimeout, requests.ReadTimeout, requests.exceptions.Timeout):\n",
        "        code = 'Error'\n",
        "    if str(code).startswith('5'):\n",
        "        try:\n",
        "            r = requests.get(url, allow_redirects=True, timeout=(15, 15))\n",
        "            code = r.status_code       \n",
        "        except (requests.ConnectTimeout, requests.ReadTimeout, requests.exceptions.Timeout):\n",
        "            code = 'Timeout Error'              \n",
        "        except (requests.TooManyRedirects, requests.ConnectionError):\n",
        "            code = 'Connection Error' \n",
        "        except (requests.HTTPError, requests.URLRequired, requests.exceptions.RequestException):\n",
        "            code = 'Other Error'  \n",
        "        except (requests.HTTPError, requests.URLRequired, requests.exceptions.RequestException, requests.TooManyRedirects, requests.ConnectionError, requests.ConnectTimeout, requests.ReadTimeout, requests.exceptions.Timeout):\n",
        "            code = 'Error'           \n",
        "    return code\n",
        "\n",
        "# Upload an input Excel file\n",
        "uploaded = files.upload()\n",
        "input_name = str(list(uploaded.keys())[0])\n",
        "\n",
        "# Read an input Excel file into a pandas DataFrame\n",
        "input_df = pd.read_excel(input_name)\n",
        "\n",
        "# Create an output Excel file based on input excel file\n",
        "output_name = input_name.rsplit( \".\", 1 )[0] + \"_output.xlsx\"\n",
        "\n",
        "# Create an output DataFrame\n",
        "output_df = input_df.copy()\n",
        "output_df = pd.concat([input_df, pd.DataFrame(columns = [ 'STATUS'])], sort=False)"
      ],
      "execution_count": null,
      "outputs": []
    },
    {
      "cell_type": "code",
      "metadata": {
        "id": "ClZCI0FlK08s",
        "cellView": "form"
      },
      "source": [
        "#@title 2. Run the program\n",
        "\n",
        "# number of rows\n",
        "total = len(input_df.index)\n",
        "\n",
        "# count\n",
        "count = 0\n",
        "notFound = 0\n",
        "connectionError = 0\n",
        "timeoutError = 0\n",
        "otherError = 0\n",
        "\n",
        "out = display(progress(0, total), display_id=True)\n",
        "\n",
        "for index, row in output_df.iterrows():\n",
        "    count += 1\n",
        "    time.sleep(0.02)\n",
        "    out.update(progress(count, total))\n",
        "\n",
        "    link = row[0]\n",
        "    status = check_url(link)\n",
        "\n",
        "    if str(status).startswith('4'):\n",
        "        output_df.loc[index, 'STATUS'] = status\n",
        "        notFound += 1\n",
        "    elif str(status).startswith('Timeout'):\n",
        "        output_df.loc[index, 'STATUS'] = status\n",
        "        timeoutError += 1\n",
        "    elif str(status).startswith('Connection'):\n",
        "        output_df.loc[index, 'STATUS'] = status\n",
        "        connectionError += 1\n",
        "    elif str(status).startswith('Other'):\n",
        "        output_df.loc[index, 'STATUS'] = status\n",
        "        otherError += 1\n",
        "    else:\n",
        "        output_df = output_df.drop(index)\n",
        "\n",
        "print('\\nAmong ', total, ' links\\n')\n",
        "print('Not Found: ', notFound)\n",
        "print('Connection Error: ', connectionError)\n",
        "print('Timeout Error: ', timeoutError)\n",
        "print('Other Error: ', otherError)"
      ],
      "execution_count": null,
      "outputs": []
    },
    {
      "cell_type": "code",
      "metadata": {
        "id": "yUiBakJkqIdT",
        "cellView": "form"
      },
      "source": [
        "#@title 3. Export an output file\n",
        "\n",
        "try:\n",
        "    output_df.to_excel(output_name, index=False, engine='xlsxwriter')\n",
        "except:\n",
        "    output_name = output_name[:-5] + '.csv'\n",
        "    output_df.to_csv(output_name, index=False)\n",
        "print('Done!\\U0001f600')"
      ],
      "execution_count": null,
      "outputs": []
    }
  ]
}