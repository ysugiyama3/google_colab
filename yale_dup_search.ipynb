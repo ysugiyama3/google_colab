{
  "nbformat": 4,
  "nbformat_minor": 0,
  "metadata": {
    "colab": {
      "name": "yale_dup_search.ipynb",
      "provenance": [],
      "authorship_tag": "ABX9TyNAFr7FIpBDhh894FBHp8pa",
      "include_colab_link": true
    },
    "kernelspec": {
      "name": "python3",
      "display_name": "Python 3"
    }
  },
  "cells": [
    {
      "cell_type": "markdown",
      "metadata": {
        "id": "view-in-github",
        "colab_type": "text"
      },
      "source": [
        "<a href=\"https://colab.research.google.com/github/ysugiyama3/google_colab/blob/master/yale_dup_search.ipynb\" target=\"_parent\"><img src=\"https://colab.research.google.com/assets/colab-badge.svg\" alt=\"Open In Colab\"/></a>"
      ]
    },
    {
      "cell_type": "markdown",
      "metadata": {
        "id": "hccZRWcgnpqM",
        "colab_type": "text"
      },
      "source": [
        "## **Yale University Library duplicate search program**\n",
        "\n",
        "by Yukari Sugiyama\n",
        "\n",
        "---\n",
        "This program automatically searches the Yale OPAC for title based on ISBN found in a base spreadsheet.\n",
        "\n",
        "#### **What you need**\n",
        "Excel spreadsheet in which contains 5 columns “TITLE”, “AUTHOR”, “PUBLISHER”, “YEAR”, and “ISBN” in that order.\n",
        "\n",
        "#### **How to run the program**\n",
        "Execute each step by simply clicking the play button.\n",
        "\n",
        "---"
      ]
    },
    {
      "cell_type": "code",
      "metadata": {
        "id": "OEwZcSZtAfL8",
        "colab_type": "code",
        "cellView": "form",
        "colab": {}
      },
      "source": [
        "#@title 1. Upload an input Excel file\n",
        "\n",
        "from google.colab import files\n",
        "import pandas as pd\n",
        "import requests\n",
        "import json\n",
        "from IPython.display import HTML, display\n",
        "import time\n",
        "import re\n",
        "\n",
        "def progress(value, max=50000):\n",
        "    return HTML(\"\"\"\n",
        "        <progress\n",
        "            value='{value}'\n",
        "            max='{max}',\n",
        "            style='width: 40%'\n",
        "        >\n",
        "            {value}\n",
        "        </progress>\n",
        "        <br>{value}/{max}</br>\n",
        "    \"\"\".format(value=value, max=max))\n",
        "\n",
        "def clean_isbn(isbn):\n",
        "    if isbn is None or pd.isnull(isbn):\n",
        "        isbn = None\n",
        "    elif len(str(isbn)) > 0:\n",
        "        isbn = str(isbn)\n",
        "        isbn = re.sub(r'[\\(|\\:|\\.].*', '', isbn)\n",
        "        isbn = re.sub(r'[^0-9Xx]', '', isbn) \n",
        "    else:\n",
        "        isbn = None\n",
        "    return isbn\n",
        "\n",
        "def search_opac(isbn):\n",
        "    global output_df, held\n",
        "    bib = ''\n",
        "    note = ''\n",
        "    callno = ''\n",
        "    status = ''\n",
        "    if isbn is None or pd.isnull(isbn):\n",
        "        note = 'Check manually'\n",
        "    else:\n",
        "        url = 'http://libapp.library.yale.edu/VoySearch/GetBibItem?isxn=' + str(isbn)\n",
        "        r = requests.get(url)\n",
        "        result = json.loads(r.text)\n",
        "        records= result['record']\n",
        "        record = records[0]\n",
        "        bib = record['bibid']\n",
        "        try:          \n",
        "          items = record['items']\n",
        "          item = items[0]\n",
        "          callno = item['callno']\n",
        "          status = item['itemstatus']\n",
        "          note = 'Held'\n",
        "          held += 1\n",
        "        except:\n",
        "            if bib == '0':\n",
        "                bib = ''\n",
        "                note = 'Check manually'\n",
        "            else:\n",
        "                note = 'Held'\n",
        "                held += 1\n",
        "    output_df = output_df.append(pd.Series([title, author, publisher, year, isbn, note, bib, callno, status], index=output_df.columns ), ignore_index=True)  \n",
        "\n",
        "# Upload an input Excel file\n",
        "uploaded = files.upload()\n",
        "input_name = str(list(uploaded.keys())[0])\n",
        "\n",
        "# Read an input Excel file into a pandas DataFrame\n",
        "input_df = pd.read_excel(input_name)\n",
        "\n",
        "# Convert YEAR to int64\n",
        "input_df['YEAR'] = input_df['YEAR'].astype('int64')\n",
        "\n",
        "# Create an output Excel file based on input excel file\n",
        "output_name = input_name[:-5] + \"_output.xlsx\"\n",
        "\n",
        "# Create an output DataFrame\n",
        "output_df = pd.DataFrame(columns = ['TITLE', 'AUTHOR', 'PUBLISHER', 'YEAR', 'ISBN', 'NOTE', 'BIB_ID', 'CALL_NO', 'STATUS'])\n",
        "\n",
        "# number of rows\n",
        "total = len(input_df.index)"
      ],
      "execution_count": null,
      "outputs": []
    },
    {
      "cell_type": "code",
      "metadata": {
        "id": "2-K6uhsl3l4s",
        "colab_type": "code",
        "cellView": "form",
        "colab": {}
      },
      "source": [
        "#@title 2. Run the dup search program\n",
        "\n",
        "# count\n",
        "count = 0\n",
        "held = 0\n",
        "\n",
        "out = display(progress(0, total), display_id=True)\n",
        "\n",
        "for index, row in input_df.iterrows():\n",
        "    count += 1\n",
        "    time.sleep(0.02)\n",
        "    out.update(progress(count, total))\n",
        "\n",
        "    title = row[0]\n",
        "    author = row[1]\n",
        "    publisher = row[2]\n",
        "    year = row[3]\n",
        "    isbn = row[4]\n",
        "    isbn = clean_isbn(isbn)\n",
        "\n",
        "    search_opac(isbn)\n",
        "\n",
        "print('Done!')"
      ],
      "execution_count": null,
      "outputs": []
    },
    {
      "cell_type": "code",
      "metadata": {
        "id": "ytkvv1cXGzHG",
        "colab_type": "code",
        "cellView": "form",
        "colab": {}
      },
      "source": [
        "#@title 3. Preview results\n",
        "\n",
        "import matplotlib.pyplot as plt\n",
        "\n",
        "labels = 'Held', 'Check manually'\n",
        "sections = [held, total-held]\n",
        "colors = ['c', 'y']\n",
        "\n",
        "plt.pie(sections, labels=labels, colors=colors,\n",
        "        startangle=45,\n",
        "        explode = (0, 0.1),\n",
        "        autopct = '%1.2f%%')\n",
        "\n",
        "plt.axis('equal') \n",
        "plt.title(input_name + ' Results')\n",
        "plt.show()\n"
      ],
      "execution_count": null,
      "outputs": []
    },
    {
      "cell_type": "code",
      "metadata": {
        "id": "wDHVLNir92qC",
        "colab_type": "code",
        "cellView": "form",
        "colab": {}
      },
      "source": [
        "#@title 4. Export results\n",
        "try:\n",
        "    output_df.to_excel(output_name, index=False, engine='xlsxwriter')\n",
        "except:\n",
        "    output_name = output_name[:-5] + '.csv'\n",
        "    output_df.to_csv(output_name, index=False)\n",
        "print('Done!\\U0001f600')"
      ],
      "execution_count": null,
      "outputs": []
    }
  ]
}