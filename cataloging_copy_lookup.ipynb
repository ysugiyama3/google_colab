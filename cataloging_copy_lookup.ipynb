{
  "nbformat": 4,
  "nbformat_minor": 0,
  "metadata": {
    "colab": {
      "name": "cataloging_copy_lookup.ipynb",
      "provenance": [],
      "toc_visible": true,
      "authorship_tag": "ABX9TyMAe6tgBqtKe+i83X5lg4je",
      "include_colab_link": true
    },
    "kernelspec": {
      "name": "python3",
      "display_name": "Python 3"
    }
  },
  "cells": [
    {
      "cell_type": "markdown",
      "metadata": {
        "id": "view-in-github",
        "colab_type": "text"
      },
      "source": [
        "<a href=\"https://colab.research.google.com/github/ysugiyama3/google_colab/blob/master/cataloging_copy_lookup.ipynb\" target=\"_parent\"><img src=\"https://colab.research.google.com/assets/colab-badge.svg\" alt=\"Open In Colab\"/></a>"
      ]
    },
    {
      "cell_type": "markdown",
      "metadata": {
        "id": "LbNm7H1QSVsL",
        "colab_type": "text"
      },
      "source": [
        "## **Cataloging copy lookup program**\n",
        "\n",
        "by Yukari Sugiyama (View source code on <a href='https://github.com/ysugiyama3/google_colab'>Github</a>)\n",
        "\n",
        "---\n",
        "#### **About the program**\n",
        "Using Python 3 and OCLC WorldCat Search API, this program automates the work of cataloing copy search. It automatically searches WorldCat for good cataloging copy by LCCN, ISBN, and OCLC numbers. The process considers OCLC records with English cataloging language, encoding levels (blank, 1, 4, I, M) and LC Subject Headings (except for fiction) as good cataloging copy.\n",
        "\n",
        "#### **What you need**\n",
        "\n",
        "\n",
        "*   Your own OCLC <a href='https://www.oclc.org/developer/develop/authentication/how-to-request-a-wskey.en.html'>WorldCat Search API key.</a>\n",
        "*   Excel spreadsheet in which **the 1st, 2nd, 3rd columns must be assigned for LCCN, ISBN, and OCLC number respectively.** The spreadsheet can have as many columns as necesary and must have column headers.\n",
        "\n",
        "#### **How to run the program**\n",
        "Execute each step by simply clicking the play button (watch a video demo <a href='https://youtu.be/qAaI75ZTPoA'>here</a>)\n",
        "\n",
        "---"
      ]
    },
    {
      "cell_type": "code",
      "metadata": {
        "id": "_9JKHyl7C0x7",
        "colab_type": "code",
        "cellView": "form",
        "colab": {
          "base_uri": "https://localhost:8080/",
          "height": 35
        },
        "outputId": "72e2905b-b29e-45df-b35c-5fc297336a05"
      },
      "source": [
        "#@title 1. Enter your OCLC WorldCat Search API key\n",
        "\n",
        "from google.colab import files\n",
        "import pandas as pd\n",
        "import requests\n",
        "import xml.etree.ElementTree as ET\n",
        "from IPython.display import HTML, display\n",
        "import time\n",
        "import re\n",
        "from getpass import getpass\n",
        "\n",
        "def progress(value, max=50000):\n",
        "    return HTML(\"\"\"\n",
        "        <progress\n",
        "            value='{value}'\n",
        "            max='{max}',\n",
        "            style='width: 40%'\n",
        "        >\n",
        "            {value}\n",
        "        </progress>\n",
        "        <br>{value}/{max}</br>\n",
        "    \"\"\".format(value=value, max=max))\n",
        "\n",
        "def eng_lang(record):\n",
        "    cat_lang = record.find('{http://www.loc.gov/MARC21/slim}datafield[@tag=\"040\"]/{http://www.loc.gov/MARC21/slim}subfield[@code=\"b\"]')\n",
        "    if cat_lang is not None:\n",
        "        cat_lang = cat_lang.text\n",
        "        if cat_lang == 'eng':\n",
        "            return True\n",
        "    return False\n",
        "\n",
        "def encoding_level(record):\n",
        "    elvl = record.find('{http://www.loc.gov/MARC21/slim}leader').text[17:18]\n",
        "    if elvl in [' ','1','4','I','M']:\n",
        "        return str(elvl)\n",
        "    else:\n",
        "        return ''\n",
        "\n",
        "def oclc_no(record):\n",
        "    oclc_no = record.find('{http://www.loc.gov/MARC21/slim}controlfield[@tag=\"001\"]').text\n",
        "    return oclc_no\n",
        "\n",
        "def call_no(record):\n",
        "    call_sub_a = record.find('{http://www.loc.gov/MARC21/slim}datafield[@tag=\"050\"]/{http://www.loc.gov/MARC21/slim}subfield[@code=\"a\"]')\n",
        "    call_sub_b = record.find('{http://www.loc.gov/MARC21/slim}datafield[@tag=\"050\"]/{http://www.loc.gov/MARC21/slim}subfield[@code=\"b\"]')\n",
        "    if call_sub_a is not None:\n",
        "        call_sub_a = call_sub_a.text\n",
        "    else:\n",
        "        call_sub_a = ''\n",
        "    if call_sub_b is not None:\n",
        "        call_sub_b = ' ' + call_sub_b.text\n",
        "    else:\n",
        "        call_sub_b = ''\n",
        "    call = call_sub_a + call_sub_b\n",
        "    return call\n",
        "\n",
        "def fiction(record):\n",
        "    litf = record.find('{http://www.loc.gov/MARC21/slim}controlfield[@tag=\"008\"]').text[33:34]\n",
        "    if litf == '0':\n",
        "        return False\n",
        "    else:\n",
        "        return True\n",
        "\n",
        "def subject(record):\n",
        "    if fiction(record):\n",
        "        return 'Yes (Fiction)'\n",
        "    else:\n",
        "        subj_count = 0\n",
        "        person = record.find('{http://www.loc.gov/MARC21/slim}datafield[@ind2=\"0\"][@tag=\"600\"]/{http://www.loc.gov/MARC21/slim}subfield[@code=\"a\"]')\n",
        "        corp = record.find('{http://www.loc.gov/MARC21/slim}datafield[@ind2=\"0\"][@tag=\"610\"]/{http://www.loc.gov/MARC21/slim}subfield[@code=\"a\"]')\n",
        "        conf = record.find('{http://www.loc.gov/MARC21/slim}datafield[@ind2=\"0\"][@tag=\"611\"]/{http://www.loc.gov/MARC21/slim}subfield[@code=\"a\"]')\n",
        "        ti = record.find('{http://www.loc.gov/MARC21/slim}datafield[@ind2=\"0\"][@tag=\"630\"]/{http://www.loc.gov/MARC21/slim}subfield[@code=\"a\"]')\n",
        "        topic = record.find('{http://www.loc.gov/MARC21/slim}datafield[@ind2=\"0\"][@tag=\"650\"]/{http://www.loc.gov/MARC21/slim}subfield[@code=\"a\"]')\n",
        "        geo = record.find('{http://www.loc.gov/MARC21/slim}datafield[@ind2=\"0\"][@tag=\"651\"]/{http://www.loc.gov/MARC21/slim}subfield[@code=\"a\"]')\n",
        "\n",
        "        if person is not None:\n",
        "            subj_count += 1\n",
        "        if corp is not None:\n",
        "            subj_count += 1\n",
        "        if conf is not None:\n",
        "            subj_count += 1\n",
        "        if ti is not None:\n",
        "            subj_count += 1\n",
        "        if topic is not None:\n",
        "            subj_count += 1\n",
        "        if geo is not None:\n",
        "            subj_count += 1\n",
        "\n",
        "        if subj_count > 0:\n",
        "            return 'Yes'\n",
        "        else:\n",
        "            return 'No'\n",
        "\n",
        "def search_by_lccn(lccn):\n",
        "    global output_df, hascopy\n",
        "\n",
        "    time.sleep(0.02)\n",
        "    url = 'http://www.worldcat.org/webservices/catalog/search/sru?query=srw.dn=%22' + str(lccn) + '%22&servicelevel=full&frbrGrouping=off&maximumRecords=1&wskey=' + wskey\n",
        "    r = requests.get(url)\n",
        "    marcxml = r.text\n",
        "    root = ET.fromstring(marcxml)\n",
        "    result = root.find('{http://www.loc.gov/zing/srw/}numberOfRecords').text\n",
        "    if int(result) > 0:\n",
        "        record = root.find('{http://www.loc.gov/zing/srw/}records/{http://www.loc.gov/zing/srw/}record/{http://www.loc.gov/zing/srw/}recordData/{http://www.loc.gov/MARC21/slim}record')\n",
        "        oclc = oclc_no(record)\n",
        "        subj = subject(record)\n",
        "        call = call_no(record)\n",
        "        elvl = encoding_level(record)\n",
        "\n",
        "        if eng_lang(record) and len(elvl) > 0 and subj.startswith('Yes'):\n",
        "            hascopy += 1\n",
        "            output_df.loc[index, 'MATCH_OCLC_NO'] = oclc\n",
        "            output_df.loc[index, 'SUBJECT'] = subj\n",
        "            output_df.loc[index, 'LC_CALL_NUMBER'] = call\n",
        "            output_df.loc[index, 'ELVL'] = elvl \n",
        "            return True\n",
        "    return False\n",
        "\n",
        "\n",
        "def search_dlc_by_isbn(isbn):\n",
        "    global output_df, hascopy\n",
        "\n",
        "    time.sleep(0.02)\n",
        "    url = 'http://www.worldcat.org/webservices/catalog/search/sru?query=srw.bn=%22' + str(isbn) + '%22+and+srw.pc=%22dlc%22&servicelevel=full&frbrGrouping=off&maximumRecords=1&wskey=' + wskey\n",
        "    r = requests.get(url)\n",
        "    marcxml = r.text    \n",
        "    root = ET.fromstring(marcxml)\n",
        "    result = root.find('{http://www.loc.gov/zing/srw/}numberOfRecords').text\n",
        "    if int(result) > 0:\n",
        "        record = root.find('{http://www.loc.gov/zing/srw/}records/{http://www.loc.gov/zing/srw/}record/{http://www.loc.gov/zing/srw/}recordData/{http://www.loc.gov/MARC21/slim}record')\n",
        "        oclc = oclc_no(record)\n",
        "        subj = subject(record)\n",
        "        call = call_no(record)\n",
        "        elvl = encoding_level(record)\n",
        "\n",
        "        if eng_lang(record) and len(elvl) > 0 and subj.startswith('Yes'):\n",
        "            hascopy += 1\n",
        "            output_df.loc[index, 'MATCH_OCLC_NO'] = oclc\n",
        "            output_df.loc[index, 'SUBJECT'] = subj\n",
        "            output_df.loc[index, 'LC_CALL_NUMBER'] = call\n",
        "            output_df.loc[index, 'ELVL'] = elvl \n",
        "            return True\n",
        "    return False\n",
        "\n",
        "\n",
        "def search_by_isbn(isbn):\n",
        "    global output_df, hascopy\n",
        "\n",
        "    time.sleep(0.02)\n",
        "    url = 'http://www.worldcat.org/webservices/catalog/search/sru?query=srw.bn=%22' + str(isbn) + '%22+not+srw.mt=%22com%22&sortKeys=LibraryCount%2C%2C0&servicelevel=full&frbrGrouping=off&maximumRecords=1&wskey=' + wskey\n",
        "    r = requests.get(url)\n",
        "    marcxml = r.text    \n",
        "    root = ET.fromstring(marcxml)\n",
        "    result = root.find('{http://www.loc.gov/zing/srw/}numberOfRecords').text\n",
        "    if int(result) > 0:\n",
        "        record = root.find('{http://www.loc.gov/zing/srw/}records/{http://www.loc.gov/zing/srw/}record/{http://www.loc.gov/zing/srw/}recordData/{http://www.loc.gov/MARC21/slim}record')\n",
        "        oclc = oclc_no(record)\n",
        "        subj = subject(record)\n",
        "        call = call_no(record)\n",
        "        elvl = encoding_level(record)\n",
        "\n",
        "        if eng_lang(record) and len(elvl) > 0 and subj.startswith('Yes'):\n",
        "            hascopy += 1\n",
        "            output_df.loc[index, 'MATCH_OCLC_NO'] = oclc\n",
        "            output_df.loc[index, 'SUBJECT'] = subj\n",
        "            output_df.loc[index, 'LC_CALL_NUMBER'] = call\n",
        "            output_df.loc[index, 'ELVL'] = elvl \n",
        "            return True\n",
        "    return False\n",
        "\n",
        "def search_by_oclc(oclc):\n",
        "    global output_df, hascopy\n",
        "\n",
        "    time.sleep(0.02)\n",
        "    url = 'http://www.worldcat.org/webservices/catalog/content/' + str(oclc) + '?&servicelevel=full&frbrGrouping=off&wskey=' + wskey\n",
        "    r = requests.get(url)\n",
        "    marcxml = r.text   \n",
        "    root = ET.fromstring(marcxml)\n",
        "    error = root.find('{http://www.loc.gov/zing/srw/diagnostic/}diagnostic/{http://www.loc.gov/zing/srw/diagnostic/}message')\n",
        "    if error is None:\n",
        "        oclc = oclc_no(root)\n",
        "        subj = subject(root)\n",
        "        call = call_no(root)\n",
        "        elvl = encoding_level(root)\n",
        "\n",
        "        if eng_lang(root) and len(elvl) > 0 and subj.startswith('Yes'):\n",
        "            hascopy += 1\n",
        "            output_df.loc[index, 'MATCH_OCLC_NO'] = oclc\n",
        "            output_df.loc[index, 'SUBJECT'] = subj\n",
        "            output_df.loc[index, 'LC_CALL_NUMBER'] = call\n",
        "            output_df.loc[index, 'ELVL'] = elvl \n",
        "            return True\n",
        "    return False\n",
        "\n",
        "def clean_lccn(lccn):\n",
        "    if lccn is None or pd.isnull(lccn):\n",
        "        lccn = None\n",
        "    elif len(str(lccn)) > 0:\n",
        "        lccn = str(lccn)\n",
        "        lccn = re.sub(r'\\..*', '', lccn)\n",
        "    else:\n",
        "        lccn = None\n",
        "    return lccn\n",
        "\n",
        "def clean_isbn(isbn):\n",
        "    if isbn is None or pd.isnull(isbn):\n",
        "        isbn = None\n",
        "    elif len(str(isbn)) > 0:\n",
        "        isbn = str(isbn)\n",
        "        isbn = re.sub(r'[\\(|\\:|\\.].*', '', isbn)\n",
        "        isbn = re.sub(r'[^0-9Xx]', '', isbn) \n",
        "    else:\n",
        "        isbn = None\n",
        "    return isbn\n",
        "\n",
        "def clean_oclc(oclc):\n",
        "    if oclc is None or pd.isnull(oclc):\n",
        "        oclc = None\n",
        "    elif len(str(oclc)) > 0:\n",
        "        oclc = str(oclc)\n",
        "        if oclc.startswith('(OCoLC)') or oclc.startswith('ocn') or oclc.startswith('ocm') or oclc.startswith('on'):\n",
        "            oclc = re.sub(r'[^0-9]*','',oclc)\n",
        "        else:\n",
        "            oclc = None\n",
        "    else:\n",
        "        oclc = None\n",
        "    return oclc\n",
        "\n",
        "# Set wskey\n",
        "wskey = getpass('Enter your OCLC WorldCat Search API key: ')\n"
      ],
      "execution_count": 1,
      "outputs": [
        {
          "output_type": "stream",
          "text": [
            "Enter your OCLC WorldCat Search API key: ··········\n"
          ],
          "name": "stdout"
        }
      ]
    },
    {
      "cell_type": "code",
      "metadata": {
        "id": "u0lXTu8ZLGpI",
        "colab_type": "code",
        "cellView": "form",
        "colab": {
          "resources": {
            "http://localhost:8080/nbextensions/google.colab/files.js": {
              "data": "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",
              "ok": true,
              "headers": [
                [
                  "content-type",
                  "application/javascript"
                ]
              ],
              "status": 200,
              "status_text": ""
            }
          },
          "base_uri": "https://localhost:8080/",
          "height": 73
        },
        "outputId": "97cacbd5-f423-4f14-b2d8-63725f025b90"
      },
      "source": [
        "#@title 2. Upload an input Excel file (.xls, .xlsx, .xlsm, .xlsb, .odf)\n",
        "\n",
        "# Upload an input Excel file\n",
        "uploaded = files.upload()\n",
        "input_name = str(list(uploaded.keys())[0])\n",
        "\n",
        "# Read an input Excel file into a pandas DataFrame\n",
        "input_df = pd.read_excel(input_name)\n",
        "\n",
        "# Create an output Excel file based on input excel file\n",
        "output_name = input_name.rsplit( \".\", 1 )[0] + \"_output.xlsx\"\n",
        "\n",
        "# Create an output DataFrame\n",
        "output_df = input_df.copy()\n",
        "output_df = pd.concat([input_df, pd.DataFrame(columns = [ 'MATCH_OCLC_NO', 'SUBJECT', 'LC_CALL_NUMBER', 'ELVL'])], sort=False)\n",
        "\n",
        "# number of rows\n",
        "total = len(input_df.index)"
      ],
      "execution_count": 2,
      "outputs": [
        {
          "output_type": "display_data",
          "data": {
            "text/html": [
              "\n",
              "     <input type=\"file\" id=\"files-780df256-a1a5-47a7-a801-152328275ba4\" name=\"files[]\" multiple disabled\n",
              "        style=\"border:none\" />\n",
              "     <output id=\"result-780df256-a1a5-47a7-a801-152328275ba4\">\n",
              "      Upload widget is only available when the cell has been executed in the\n",
              "      current browser session. Please rerun this cell to enable.\n",
              "      </output>\n",
              "      <script src=\"/nbextensions/google.colab/files.js\"></script> "
            ],
            "text/plain": [
              "<IPython.core.display.HTML object>"
            ]
          },
          "metadata": {
            "tags": []
          }
        },
        {
          "output_type": "stream",
          "text": [
            "Saving test1.xlsx to test1.xlsx\n"
          ],
          "name": "stdout"
        }
      ]
    },
    {
      "cell_type": "code",
      "metadata": {
        "id": "-ez8LHwfNUuO",
        "colab_type": "code",
        "cellView": "form",
        "colab": {
          "base_uri": "https://localhost:8080/",
          "height": 52
        },
        "outputId": "b1ec0139-d653-4082-a64a-adf0e9b0d0dc"
      },
      "source": [
        "#@title 3. Run the program\n",
        "\n",
        "# count\n",
        "count = 0\n",
        "hascopy = 0\n",
        "\n",
        "out = display(progress(0, total), display_id=True)\n",
        "\n",
        "for index, row in output_df.iterrows():\n",
        "    count += 1\n",
        "    time.sleep(0.02)\n",
        "    out.update(progress(count, total))\n",
        "\n",
        "    lccn = row[0]\n",
        "    lccn = clean_lccn(lccn)\n",
        "    isbn = row[1]\n",
        "    isbn = clean_isbn(isbn)\n",
        "    oclc = row[2]\n",
        "    oclc = clean_oclc(oclc)\n",
        "\n",
        "    if lccn is not None and search_by_lccn(lccn):\n",
        "        continue\n",
        "    elif isbn is not None and search_dlc_by_isbn(isbn): \n",
        "        continue\n",
        "    elif isbn is not None and search_by_isbn(isbn):\n",
        "        continue\n",
        "    elif oclc is not None:\n",
        "        search_by_oclc(oclc)\n",
        "\n"
      ],
      "execution_count": 3,
      "outputs": [
        {
          "output_type": "display_data",
          "data": {
            "text/html": [
              "\n",
              "        <progress\n",
              "            value='100'\n",
              "            max='100',\n",
              "            style='width: 40%'\n",
              "        >\n",
              "            100\n",
              "        </progress>\n",
              "        <br>100/100</br>\n",
              "    "
            ],
            "text/plain": [
              "<IPython.core.display.HTML object>"
            ]
          },
          "metadata": {
            "tags": []
          }
        }
      ]
    },
    {
      "cell_type": "code",
      "metadata": {
        "id": "R2fXJ4jJJMv1",
        "colab_type": "code",
        "cellView": "form",
        "colab": {
          "base_uri": "https://localhost:8080/",
          "height": 264
        },
        "outputId": "eb4ce8c2-3a23-4f54-c037-44aba9bff424"
      },
      "source": [
        "#@title 4. Preview results\n",
        "\n",
        "import matplotlib.pyplot as plt\n",
        "\n",
        "labels = 'Has copy', 'No copy'\n",
        "sizes = [hascopy, total-hascopy]\n",
        "colors = ['c', 'y']\n",
        "explode = (0.1, 0.0)\n",
        "\n",
        "total = sum(sizes)\n",
        "\n",
        "plt.pie(sizes, explode=explode, labels=labels, colors=colors,\n",
        "        autopct=lambda s: '{:.0f}'.format(s * total / 100), shadow=True, startangle=90)\n",
        "\n",
        "plt.axis('equal') \n",
        "plt.title(input_name + ' Results')\n",
        "plt.show()\n"
      ],
      "execution_count": 4,
      "outputs": [
        {
          "output_type": "display_data",
          "data": {
            "image/png": "[encoded data removed]",
            "text/plain": [
              "<Figure size 432x288 with 1 Axes>"
            ]
          },
          "metadata": {
            "tags": []
          }
        }
      ]
    },
    {
      "cell_type": "code",
      "metadata": {
        "id": "raVJ4qYpE5e-",
        "colab_type": "code",
        "cellView": "form",
        "colab": {
          "base_uri": "https://localhost:8080/",
          "height": 35
        },
        "outputId": "512c15b4-d835-4085-a31b-a8c4fa0b7223"
      },
      "source": [
        "#@title 5. Export an output file to Excel\n",
        "\n",
        "try:\n",
        "    output_df.to_excel(output_name, index=False)\n",
        "except:\n",
        "    output_name = output_name.rsplit( \".\", 1 )[0] + '.csv'\n",
        "    output_df.to_csv(output_name, index=False)\n",
        "print('Done!\\U0001f44D')"
      ],
      "execution_count": 5,
      "outputs": [
        {
          "output_type": "stream",
          "text": [
            "Done!👍\n"
          ],
          "name": "stdout"
        }
      ]
    }
  ]
}